{
 "cells": [
  {
   "cell_type": "markdown",
   "id": "3d66d07f",
   "metadata": {},
   "source": [
    "This scirpt extracts the epitope binding assignment by TCR from the 10x Application note \"A new way of exploring immunity\" (https://pages.10xgenomics.com/rs/446-PBO-704/images/10x_AN047_IP_A_New_Way_of_Exploring_Immunity_Digital.pdf)"
   ]
  },
  {
   "cell_type": "markdown",
   "id": "794f8a72",
   "metadata": {},
   "source": [
    "Required packages that are note included in the yaml environment:\n",
    "- scanpy\n",
    "- scirpy\n"
   ]
  },
  {
   "cell_type": "code",
   "execution_count": 1,
   "id": "d7860c01",
   "metadata": {},
   "outputs": [],
   "source": [
    "import pandas as pd\n",
    "import numpy as np\n",
    "import seaborn as sb\n",
    "from tqdm import tqdm\n",
    "\n",
    "import scanpy as sc\n",
    "import scirpy as ir"
   ]
  },
  {
   "cell_type": "code",
   "execution_count": 2,
   "id": "ca67c4ef",
   "metadata": {},
   "outputs": [],
   "source": [
    "path_base = '10x/'"
   ]
  },
  {
   "cell_type": "code",
   "execution_count": 3,
   "id": "dd3c1ae3",
   "metadata": {},
   "outputs": [
    {
     "name": "stderr",
     "output_type": "stream",
     "text": [
      "... storing 'IR_VJ_1_cdr3' as categorical\n",
      "... storing 'IR_VJ_2_cdr3' as categorical\n",
      "... storing 'IR_VDJ_1_cdr3' as categorical\n",
      "... storing 'IR_VDJ_2_cdr3' as categorical\n",
      "... storing 'IR_VJ_1_cdr3_nt' as categorical\n",
      "... storing 'IR_VJ_2_cdr3_nt' as categorical\n",
      "... storing 'IR_VDJ_1_cdr3_nt' as categorical\n",
      "... storing 'IR_VDJ_2_cdr3_nt' as categorical\n",
      "... storing 'IR_VJ_1_junction_ins' as categorical\n",
      "... storing 'IR_VJ_2_junction_ins' as categorical\n",
      "... storing 'IR_VDJ_1_junction_ins' as categorical\n",
      "... storing 'IR_VDJ_2_junction_ins' as categorical\n",
      "... storing 'IR_VJ_1_cdr3' as categorical\n",
      "... storing 'IR_VJ_2_cdr3' as categorical\n",
      "... storing 'IR_VDJ_1_cdr3' as categorical\n",
      "... storing 'IR_VDJ_2_cdr3' as categorical\n",
      "... storing 'IR_VJ_1_cdr3_nt' as categorical\n",
      "... storing 'IR_VJ_2_cdr3_nt' as categorical\n",
      "... storing 'IR_VDJ_1_cdr3_nt' as categorical\n",
      "... storing 'IR_VDJ_2_cdr3_nt' as categorical\n",
      "... storing 'IR_VJ_1_junction_ins' as categorical\n",
      "... storing 'IR_VJ_2_junction_ins' as categorical\n",
      "... storing 'IR_VDJ_1_junction_ins' as categorical\n",
      "... storing 'IR_VDJ_2_junction_ins' as categorical\n",
      "... storing 'IR_VJ_1_cdr3' as categorical\n",
      "... storing 'IR_VJ_2_cdr3' as categorical\n",
      "... storing 'IR_VDJ_1_cdr3' as categorical\n",
      "... storing 'IR_VDJ_2_cdr3' as categorical\n",
      "... storing 'IR_VJ_1_cdr3_nt' as categorical\n",
      "... storing 'IR_VJ_2_cdr3_nt' as categorical\n",
      "... storing 'IR_VDJ_1_cdr3_nt' as categorical\n",
      "... storing 'IR_VDJ_2_cdr3_nt' as categorical\n",
      "... storing 'IR_VJ_1_junction_ins' as categorical\n",
      "... storing 'IR_VJ_2_junction_ins' as categorical\n",
      "... storing 'IR_VDJ_1_junction_ins' as categorical\n",
      "... storing 'IR_VDJ_2_junction_ins' as categorical\n",
      "... storing 'IR_VJ_1_cdr3' as categorical\n",
      "... storing 'IR_VJ_2_cdr3' as categorical\n",
      "... storing 'IR_VDJ_1_cdr3' as categorical\n",
      "... storing 'IR_VDJ_2_cdr3' as categorical\n",
      "... storing 'IR_VJ_1_cdr3_nt' as categorical\n",
      "... storing 'IR_VJ_2_cdr3_nt' as categorical\n",
      "... storing 'IR_VDJ_1_cdr3_nt' as categorical\n",
      "... storing 'IR_VDJ_2_cdr3_nt' as categorical\n",
      "... storing 'IR_VJ_1_junction_ins' as categorical\n",
      "... storing 'IR_VJ_2_junction_ins' as categorical\n",
      "... storing 'IR_VDJ_1_junction_ins' as categorical\n",
      "... storing 'IR_VDJ_2_junction_ins' as categorical\n"
     ]
    }
   ],
   "source": [
    "dfs = []\n",
    "for i in range(1, 5):\n",
    "    \n",
    "    # TCR data\n",
    "    path_anno = path_base + f'patient_{i}/vdj_v1_hs_aggregated_donor{i}_all_contig_annotations.csv'\n",
    "    df_tcr = ir.io.read_10x_vdj(path_anno).obs   \n",
    "        \n",
    "    # Binding data\n",
    "    path_binding = path_base + f'patient_{i}/vdj_v1_hs_aggregated_donor{i}_binarized_matrix.csv'\n",
    "    binarized_matrix = pd.read_csv(path_binding, sep=',', header=0)\n",
    "\n",
    "    df_tcr['Donor'] = f'Patient_{i}'\n",
    "    \n",
    "    for k in binarized_matrix.columns:\n",
    "        df_tcr[k] = None\n",
    "        df_tcr.loc[binarized_matrix['barcode'].values, k] = binarized_matrix[k].values\n",
    "    \n",
    "    dfs.append(df_tcr)\n",
    "\n",
    "df_binding = pd.concat(dfs)"
   ]
  },
  {
   "cell_type": "code",
   "execution_count": 4,
   "id": "088dcc9b",
   "metadata": {},
   "outputs": [],
   "source": [
    "binding_cols = [el for el in df_binding if el.endswith('binder')]\n",
    "\n",
    "def extract_binding(row):\n",
    "    for el in binding_cols:\n",
    "        if row[el]:\n",
    "            return el\n",
    "    return None\n",
    "\n",
    "df_binding['Epitope'] = df_binding.apply(extract_binding, axis=1)"
   ]
  },
  {
   "cell_type": "markdown",
   "id": "1f656d83",
   "metadata": {},
   "source": [
    "## Filtering"
   ]
  },
  {
   "cell_type": "code",
   "execution_count": 5,
   "id": "0971527a",
   "metadata": {},
   "outputs": [
    {
     "name": "stdout",
     "output_type": "stream",
     "text": [
      "192904\n",
      "186768\n"
     ]
    }
   ],
   "source": [
    "# Drop Multi-chains and cells without measured CDR3\n",
    "df_binding = df_binding[df_binding['multi_chain']!=True]\n",
    "print(len(df_binding))\n",
    "df_binding = df_binding[df_binding['IR_VDJ_1_cdr3']!='None']\n",
    "print(len(df_binding))"
   ]
  },
  {
   "cell_type": "code",
   "execution_count": 6,
   "id": "fbf48e0b",
   "metadata": {},
   "outputs": [
    {
     "name": "stdout",
     "output_type": "stream",
     "text": [
      "186768\n",
      "85026\n"
     ]
    }
   ],
   "source": [
    "# Drop cells without binder\n",
    "print(len(df_binding))\n",
    "df_binding = df_binding[~df_binding['Epitope'].isna()]\n",
    "print(len(df_binding))"
   ]
  },
  {
   "cell_type": "code",
   "execution_count": 7,
   "id": "1d5d8f55",
   "metadata": {},
   "outputs": [],
   "source": [
    "df_binding['Epitope'] = df_binding['Epitope'].str.split('_').str[1]"
   ]
  },
  {
   "cell_type": "code",
   "execution_count": 8,
   "id": "d033ffe7",
   "metadata": {},
   "outputs": [
    {
     "data": {
      "text/html": [
       "<div>\n",
       "<style scoped>\n",
       "    .dataframe tbody tr th:only-of-type {\n",
       "        vertical-align: middle;\n",
       "    }\n",
       "\n",
       "    .dataframe tbody tr th {\n",
       "        vertical-align: top;\n",
       "    }\n",
       "\n",
       "    .dataframe thead th {\n",
       "        text-align: right;\n",
       "    }\n",
       "</style>\n",
       "<table border=\"1\" class=\"dataframe\">\n",
       "  <thead>\n",
       "    <tr style=\"text-align: right;\">\n",
       "      <th></th>\n",
       "      <th>Epitope</th>\n",
       "      <th>IR_VJ_1_cdr3</th>\n",
       "      <th>IR_VDJ_1_cdr3</th>\n",
       "      <th>IR_VJ_1_v_gene</th>\n",
       "      <th>IR_VDJ_1_v_gene</th>\n",
       "      <th>IR_VJ_1_d_gene</th>\n",
       "      <th>IR_VDJ_1_d_gene</th>\n",
       "      <th>IR_VJ_1_j_gene</th>\n",
       "      <th>IR_VDJ_1_j_gene</th>\n",
       "      <th>IR_VJ_1_c_gene</th>\n",
       "      <th>IR_VDJ_1_c_gene</th>\n",
       "      <th>Donor</th>\n",
       "    </tr>\n",
       "    <tr>\n",
       "      <th>cell_id</th>\n",
       "      <th></th>\n",
       "      <th></th>\n",
       "      <th></th>\n",
       "      <th></th>\n",
       "      <th></th>\n",
       "      <th></th>\n",
       "      <th></th>\n",
       "      <th></th>\n",
       "      <th></th>\n",
       "      <th></th>\n",
       "      <th></th>\n",
       "      <th></th>\n",
       "    </tr>\n",
       "  </thead>\n",
       "  <tbody>\n",
       "    <tr>\n",
       "      <th>AAACCTGAGATTACCC-16</th>\n",
       "      <td>AVFDRKSDAK</td>\n",
       "      <td>CAVGDNFNKFYF</td>\n",
       "      <td>CASSLYSATGELFF</td>\n",
       "      <td>TRAV8-3</td>\n",
       "      <td>TRBV28</td>\n",
       "      <td>None</td>\n",
       "      <td>None</td>\n",
       "      <td>TRAJ21</td>\n",
       "      <td>TRBJ2-2</td>\n",
       "      <td>TRAC</td>\n",
       "      <td>TRBC2</td>\n",
       "      <td>Patient_1</td>\n",
       "    </tr>\n",
       "    <tr>\n",
       "      <th>AAACCTGAGGTGCACA-13</th>\n",
       "      <td>AVFDRKSDAK</td>\n",
       "      <td>CAVGDNFNKFYF</td>\n",
       "      <td>CASSLYSATGELFF</td>\n",
       "      <td>TRAV8-3</td>\n",
       "      <td>TRBV28</td>\n",
       "      <td>None</td>\n",
       "      <td>None</td>\n",
       "      <td>TRAJ21</td>\n",
       "      <td>TRBJ2-2</td>\n",
       "      <td>TRAC</td>\n",
       "      <td>TRBC2</td>\n",
       "      <td>Patient_1</td>\n",
       "    </tr>\n",
       "    <tr>\n",
       "      <th>AAACCTGAGTCTCGGC-10</th>\n",
       "      <td>KLGGALQAK</td>\n",
       "      <td>CALRTYKYIF</td>\n",
       "      <td>CASGYWKLAGGPQETQYF</td>\n",
       "      <td>TRAV19</td>\n",
       "      <td>TRBV7-2</td>\n",
       "      <td>None</td>\n",
       "      <td>TRBD2</td>\n",
       "      <td>TRAJ40</td>\n",
       "      <td>TRBJ2-5</td>\n",
       "      <td>TRAC</td>\n",
       "      <td>TRBC2</td>\n",
       "      <td>Patient_1</td>\n",
       "    </tr>\n",
       "    <tr>\n",
       "      <th>AAACCTGAGTGGGTTG-17</th>\n",
       "      <td>GILGFVFTL</td>\n",
       "      <td>None</td>\n",
       "      <td>CASTDFGSGANVLTF</td>\n",
       "      <td>NaN</td>\n",
       "      <td>TRBV19</td>\n",
       "      <td>NaN</td>\n",
       "      <td>None</td>\n",
       "      <td>NaN</td>\n",
       "      <td>TRBJ2-6</td>\n",
       "      <td>NaN</td>\n",
       "      <td>TRBC2</td>\n",
       "      <td>Patient_1</td>\n",
       "    </tr>\n",
       "    <tr>\n",
       "      <th>AAACCTGAGTTTAGGA-39</th>\n",
       "      <td>IVTDFSVIK</td>\n",
       "      <td>None</td>\n",
       "      <td>CASSWGGGSHYGYTF</td>\n",
       "      <td>NaN</td>\n",
       "      <td>TRBV11-2</td>\n",
       "      <td>NaN</td>\n",
       "      <td>TRBD1</td>\n",
       "      <td>NaN</td>\n",
       "      <td>TRBJ1-2</td>\n",
       "      <td>NaN</td>\n",
       "      <td>TRBC1</td>\n",
       "      <td>Patient_1</td>\n",
       "    </tr>\n",
       "  </tbody>\n",
       "</table>\n",
       "</div>"
      ],
      "text/plain": [
       "                        Epitope  IR_VJ_1_cdr3       IR_VDJ_1_cdr3  \\\n",
       "cell_id                                                             \n",
       "AAACCTGAGATTACCC-16  AVFDRKSDAK  CAVGDNFNKFYF      CASSLYSATGELFF   \n",
       "AAACCTGAGGTGCACA-13  AVFDRKSDAK  CAVGDNFNKFYF      CASSLYSATGELFF   \n",
       "AAACCTGAGTCTCGGC-10   KLGGALQAK    CALRTYKYIF  CASGYWKLAGGPQETQYF   \n",
       "AAACCTGAGTGGGTTG-17   GILGFVFTL          None     CASTDFGSGANVLTF   \n",
       "AAACCTGAGTTTAGGA-39   IVTDFSVIK          None     CASSWGGGSHYGYTF   \n",
       "\n",
       "                    IR_VJ_1_v_gene IR_VDJ_1_v_gene IR_VJ_1_d_gene  \\\n",
       "cell_id                                                             \n",
       "AAACCTGAGATTACCC-16        TRAV8-3          TRBV28           None   \n",
       "AAACCTGAGGTGCACA-13        TRAV8-3          TRBV28           None   \n",
       "AAACCTGAGTCTCGGC-10         TRAV19         TRBV7-2           None   \n",
       "AAACCTGAGTGGGTTG-17            NaN          TRBV19            NaN   \n",
       "AAACCTGAGTTTAGGA-39            NaN        TRBV11-2            NaN   \n",
       "\n",
       "                    IR_VDJ_1_d_gene IR_VJ_1_j_gene IR_VDJ_1_j_gene  \\\n",
       "cell_id                                                              \n",
       "AAACCTGAGATTACCC-16            None         TRAJ21         TRBJ2-2   \n",
       "AAACCTGAGGTGCACA-13            None         TRAJ21         TRBJ2-2   \n",
       "AAACCTGAGTCTCGGC-10           TRBD2         TRAJ40         TRBJ2-5   \n",
       "AAACCTGAGTGGGTTG-17            None            NaN         TRBJ2-6   \n",
       "AAACCTGAGTTTAGGA-39           TRBD1            NaN         TRBJ1-2   \n",
       "\n",
       "                    IR_VJ_1_c_gene IR_VDJ_1_c_gene      Donor  \n",
       "cell_id                                                        \n",
       "AAACCTGAGATTACCC-16           TRAC           TRBC2  Patient_1  \n",
       "AAACCTGAGGTGCACA-13           TRAC           TRBC2  Patient_1  \n",
       "AAACCTGAGTCTCGGC-10           TRAC           TRBC2  Patient_1  \n",
       "AAACCTGAGTGGGTTG-17            NaN           TRBC2  Patient_1  \n",
       "AAACCTGAGTTTAGGA-39            NaN           TRBC1  Patient_1  "
      ]
     },
     "execution_count": 8,
     "metadata": {},
     "output_type": "execute_result"
    }
   ],
   "source": [
    "# Drop Columns not needed\n",
    "df_binding = df_binding[\n",
    "    ['Epitope', 'IR_VJ_1_cdr3', 'IR_VDJ_1_cdr3', 'IR_VJ_1_v_gene', 'IR_VDJ_1_v_gene', \n",
    "     'IR_VJ_1_d_gene', 'IR_VDJ_1_d_gene', 'IR_VJ_1_j_gene', 'IR_VDJ_1_j_gene', \n",
    "     'IR_VJ_1_c_gene', 'IR_VDJ_1_c_gene', 'Donor']]\n",
    "\n",
    "df_binding.head(5)"
   ]
  },
  {
   "cell_type": "code",
   "execution_count": 9,
   "id": "f5436e96",
   "metadata": {},
   "outputs": [
    {
     "name": "stdout",
     "output_type": "stream",
     "text": [
      "18434\n"
     ]
    }
   ],
   "source": [
    "df_binding = df_binding.drop_duplicates(['Epitope', 'IR_VDJ_1_cdr3'])\n",
    "print(len(df_binding))"
   ]
  },
  {
   "cell_type": "code",
   "execution_count": 11,
   "id": "cda89597",
   "metadata": {},
   "outputs": [],
   "source": [
    "rename_dict = {\n",
    "    'IR_VJ_1_cdr3': 'TRA_cdr3',\n",
    "    'IR_VDJ_1_cdr3': 'TRB_cdr3', \n",
    "    'IR_VJ_1_v_gene': 'TRA_V', \n",
    "    'IR_VDJ_1_v_gene': 'TRB_V',\n",
    "    'IR_VJ_1_d_gene': 'TRA_D', \n",
    "    'IR_VDJ_1_d_gene': 'TRB_D', \n",
    "    'IR_VJ_1_j_gene': 'TRA_J', \n",
    "    'IR_VDJ_1_j_gene': 'TRB_J', \n",
    "    'IR_VJ_1_c_gene': 'TRA_C', \n",
    "    'IR_VDJ_1_c_gene': 'TRB_C',\n",
    "}\n",
    "df_binding = df_binding.rename(columns=rename_dict)"
   ]
  },
  {
   "cell_type": "code",
   "execution_count": 12,
   "id": "86d18857",
   "metadata": {},
   "outputs": [
    {
     "name": "stdout",
     "output_type": "stream",
     "text": [
      "18434\n",
      "15865\n"
     ]
    }
   ],
   "source": [
    "# Exclude CDR3b binding to multiple epitopes\n",
    "epitope_counts = df_binding['TRB_cdr3'].value_counts()\n",
    "multi_assignment = epitope_counts.index[epitope_counts>1]\n",
    "\n",
    "print(len(df_binding))\n",
    "df_binding = df_binding[~df_binding['TRB_cdr3'].isin(multi_assignment)]      \n",
    "print(len(df_binding))"
   ]
  },
  {
   "cell_type": "markdown",
   "id": "28f04dca",
   "metadata": {},
   "source": [
    "## Saving"
   ]
  },
  {
   "cell_type": "code",
   "execution_count": 14,
   "id": "ac08b188",
   "metadata": {},
   "outputs": [],
   "source": [
    "df_binding = df_binding.reset_index(drop=True)\n",
    "df_binding.to_csv('10x/10x_filtered_bindings.csv')"
   ]
  }
 ],
 "metadata": {
  "kernelspec": {
   "display_name": "Python [conda env:mvTCR]",
   "language": "python",
   "name": "conda-env-mvTCR-py"
  },
  "language_info": {
   "codemirror_mode": {
    "name": "ipython",
    "version": 3
   },
   "file_extension": ".py",
   "mimetype": "text/x-python",
   "name": "python",
   "nbconvert_exporter": "python",
   "pygments_lexer": "ipython3",
   "version": "3.8.8"
  }
 },
 "nbformat": 4,
 "nbformat_minor": 5
}
